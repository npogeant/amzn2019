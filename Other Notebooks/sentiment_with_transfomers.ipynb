{
 "cells": [
  {
   "cell_type": "markdown",
   "metadata": {},
   "source": [
    "# Getting Sentiment with Finbert"
   ]
  },
  {
   "cell_type": "code",
   "execution_count": 3,
   "metadata": {},
   "outputs": [],
   "source": [
    "# The library\n",
    "\n",
    "from transformers import AutoTokenizer, AutoModelForSequenceClassification\n",
    "from transformers import pipeline"
   ]
  },
  {
   "cell_type": "code",
   "execution_count": null,
   "metadata": {},
   "outputs": [],
   "source": [
    "# The model from HuggingFace\n",
    "model_name = \"ProsusAI/finbert\"\n",
    "model = AutoModelForSequenceClassification.from_pretrained(model_name)\n",
    "tokenizer = AutoTokenizer.from_pretrained(model_name)\n",
    "classifier = pipeline(\"sentiment-analysis\", model=model, tokenizer=tokenizer)\n",
    "\n",
    "# A loop that will create the labels\n",
    "df = df.assign(\n",
    "    sentiment=lambda x: x[\"content_modified\"].apply(lambda s: classifier(s))\n",
    ").assign(\n",
    "    label=lambda x: x[\"sentiment\"].apply(lambda s: (s[0][\"label\"])),\n",
    "    score=lambda x: x[\"sentiment\"].apply(lambda s: (s[0][\"score\"])),\n",
    ")\n",
    "# https://huggingface.co/transformers/quicktour.html\n",
    "# https://huggingface.co/transformers/usage.html\n",
    "# https://github.com/ProsusAI/finBERT"
   ]
  }
 ],
 "metadata": {
  "kernelspec": {
   "display_name": "Python 3.7.11 ('envN')",
   "language": "python",
   "name": "python3"
  },
  "language_info": {
   "codemirror_mode": {
    "name": "ipython",
    "version": 3
   },
   "file_extension": ".py",
   "mimetype": "text/x-python",
   "name": "python",
   "nbconvert_exporter": "python",
   "pygments_lexer": "ipython3",
   "version": "3.7.11"
  },
  "orig_nbformat": 4,
  "vscode": {
   "interpreter": {
    "hash": "9464dc767f7c60ae64a42c5c1b469992a2c5510f32b3f3e7e8f30262fd012fed"
   }
  }
 },
 "nbformat": 4,
 "nbformat_minor": 2
}
